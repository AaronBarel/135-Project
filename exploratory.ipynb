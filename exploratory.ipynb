{
 "cells": [
  {
   "cell_type": "code",
   "execution_count": 76,
   "metadata": {},
   "outputs": [],
   "source": [
    "from pyspark.sql import SparkSession\n",
    "from pyspark.sql import functions as F\n",
    "import os\n",
    "import re\n",
    "import string\n",
    "\n",
    "spark = SparkSession \\\n",
    "    .builder \\\n",
    "    .master(\"local\") \\\n",
    "    .appName(\"Exploratory_Analysis\") \\\n",
    "    .config(\"spark.executor.memory\", '8g') \\\n",
    "    .config(\"spark.executor.cores\", '4') \\\n",
    "    .config('spark.cores.max', '4') \\\n",
    "    .config('spark.driver.memory', '8g') \\\n",
    "    .getOrCreate()\n",
    "\n",
    "sc = spark.sparkContext"
   ]
  },
  {
   "cell_type": "code",
   "execution_count": 2,
   "metadata": {},
   "outputs": [],
   "source": [
    "beers = spark.read.format('csv'). \\\n",
    "    option(\"header\", \"true\"). \\\n",
    "    option(\"inferSchema\", \"true\"). \\\n",
    "    load(\"/home/aaron/BigData135/datasets/beers.csv\")"
   ]
  },
  {
   "cell_type": "code",
   "execution_count": 3,
   "metadata": {},
   "outputs": [],
   "source": [
    "breweries = spark.read.format('csv'). \\\n",
    "    option(\"header\", \"true\"). \\\n",
    "    option(\"inferSchema\", \"true\"). \\\n",
    "    load(\"/home/aaron/BigData135/datasets/breweries.csv\")"
   ]
  },
  {
   "cell_type": "code",
   "execution_count": 4,
   "metadata": {},
   "outputs": [],
   "source": [
    "reviews = spark.read.format('csv'). \\\n",
    "    option(\"header\", \"true\"). \\\n",
    "    option(\"inferSchema\", \"true\"). \\\n",
    "    load(\"/home/aaron/BigData135/datasets/reviews.csv\")"
   ]
  },
  {
   "cell_type": "code",
   "execution_count": 5,
   "metadata": {},
   "outputs": [
    {
     "name": "stdout",
     "output_type": "stream",
     "text": [
      "root\n",
      " |-- id: integer (nullable = true)\n",
      " |-- name: string (nullable = true)\n",
      " |-- brewery_id: string (nullable = true)\n",
      " |-- state: string (nullable = true)\n",
      " |-- country: string (nullable = true)\n",
      " |-- style: string (nullable = true)\n",
      " |-- availability: string (nullable = true)\n",
      " |-- abv: string (nullable = true)\n",
      " |-- notes: string (nullable = true)\n",
      " |-- retired: string (nullable = true)\n",
      "\n"
     ]
    }
   ],
   "source": [
    "beers.printSchema()"
   ]
  },
  {
   "cell_type": "code",
   "execution_count": 6,
   "metadata": {},
   "outputs": [
    {
     "name": "stdout",
     "output_type": "stream",
     "text": [
      "root\n",
      " |-- id: integer (nullable = true)\n",
      " |-- name: string (nullable = true)\n",
      " |-- city: string (nullable = true)\n",
      " |-- state: string (nullable = true)\n",
      " |-- country: string (nullable = true)\n",
      " |-- notes: string (nullable = true)\n",
      " |-- types: string (nullable = true)\n",
      "\n"
     ]
    }
   ],
   "source": [
    "breweries.printSchema()"
   ]
  },
  {
   "cell_type": "code",
   "execution_count": 7,
   "metadata": {},
   "outputs": [
    {
     "name": "stdout",
     "output_type": "stream",
     "text": [
      "root\n",
      " |-- beer_id: integer (nullable = true)\n",
      " |-- username: string (nullable = true)\n",
      " |-- date: timestamp (nullable = true)\n",
      " |-- text: string (nullable = true)\n",
      " |-- look: string (nullable = true)\n",
      " |-- smell: string (nullable = true)\n",
      " |-- taste: string (nullable = true)\n",
      " |-- feel: string (nullable = true)\n",
      " |-- overall: string (nullable = true)\n",
      " |-- score: string (nullable = true)\n",
      "\n"
     ]
    }
   ],
   "source": [
    "reviews.printSchema()"
   ]
  },
  {
   "cell_type": "code",
   "execution_count": 9,
   "metadata": {},
   "outputs": [
    {
     "name": "stdout",
     "output_type": "stream",
     "text": [
      "+------+--------------------+----------+-----+-------+--------------------+------------+----+--------------------+-------+\n",
      "|    id|                name|brewery_id|state|country|               style|availability| abv|               notes|retired|\n",
      "+------+--------------------+----------+-----+-------+--------------------+------------+----+--------------------+-------+\n",
      "|202522|      Olde Cogitator|      2199|   CA|     US|English Oatmeal S...|    Rotating| 7.3|No notes at this ...|      f|\n",
      "| 82352|Konrads Stout Rus...|     18604| null|     NO|Russian Imperial ...|    Rotating|10.4|No notes at this ...|      f|\n",
      "|214879|      Scottish Right|     44306|   IN|     US|        Scottish Ale|  Year-round|   4|No notes at this ...|      t|\n",
      "|320009|MegaMeow Imperial...|      4378|   WA|     US|American Imperial...|      Winter| 8.7|Every time this year|      f|\n",
      "|246438|     Peaches-N-Cream|     44617|   PA|     US|  American Cream Ale|    Rotating| 5.1|No notes at this ...|      f|\n",
      "+------+--------------------+----------+-----+-------+--------------------+------------+----+--------------------+-------+\n",
      "only showing top 5 rows\n",
      "\n"
     ]
    }
   ],
   "source": [
    "beers.show(5)"
   ]
  },
  {
   "cell_type": "code",
   "execution_count": 100,
   "metadata": {},
   "outputs": [
    {
     "data": {
      "text/plain": [
       "358873"
      ]
     },
     "execution_count": 100,
     "metadata": {},
     "output_type": "execute_result"
    }
   ],
   "source": [
    "beers.count()"
   ]
  },
  {
   "cell_type": "code",
   "execution_count": 10,
   "metadata": {},
   "outputs": [
    {
     "name": "stdout",
     "output_type": "stream",
     "text": [
      "+-----+--------------------+--------------+-----+-------+--------------------+--------------------+\n",
      "|   id|                name|          city|state|country|               notes|               types|\n",
      "+-----+--------------------+--------------+-----+-------+--------------------+--------------------+\n",
      "|19730|     Brouwerij Danny|     Erpe-Mere| null|     BE|No notes at this ...|             Brewery|\n",
      "|32541|Coachella Valley ...|Thousand Palms|   CA|     US|No notes at this ...|Brewery, Bar, Bee...|\n",
      "|44736|    Beef 'O' Brady's|    Plant City|   FL|     US|No notes at this ...|         Bar, Eatery|\n",
      "|23372|Broadway Wine Mer...| Oklahoma City|   OK|     US|No notes at this ...|               Store|\n",
      "|35328|Brighton Beer Dis...|      Brighton|  GB2|     GB|Duplicate of http...|         Bar, Eatery|\n",
      "+-----+--------------------+--------------+-----+-------+--------------------+--------------------+\n",
      "only showing top 5 rows\n",
      "\n"
     ]
    }
   ],
   "source": [
    "breweries.show(5)"
   ]
  },
  {
   "cell_type": "code",
   "execution_count": 11,
   "metadata": {},
   "outputs": [
    {
     "name": "stdout",
     "output_type": "stream",
     "text": [
      "+-------+---------------+-------------------+--------------------+--------------------+--------------------+------+--------------------+-----------------+------------------+\n",
      "|beer_id|       username|               date|                text|                look|               smell| taste|                feel|          overall|             score|\n",
      "+-------+---------------+-------------------+--------------------+--------------------+--------------------+------+--------------------+-----------------+------------------+\n",
      "| 271781|   bluejacket74|2017-03-17 00:00:00|   750 ml bottle,...|                   4|                   4|     4|                4.25|                4|              4.03|\n",
      "| 125646|        _dirty_|2017-12-21 00:00:00|                    |                 4.5|                 4.5|   4.5|                 4.5|              4.5|               4.5|\n",
      "| 125646|        CJDUBYA|2017-12-21 00:00:00|                    |                4.75|                4.75|  4.75|                4.75|             4.75|              4.75|\n",
      "| 125646|GratefulBeerGuy|2017-12-20 00:00:00|\"   0% 16 oz can....| bloomin' like a ...| totally unfilter...| thick| all-white clumps...| mellon and mango| grainy earthiness|\n",
      "| 125646|       LukeGude|2017-12-20 00:00:00|   Classic TH NEI...|                4.25|                 4.5|  4.25|                4.25|             4.25|              4.31|\n",
      "+-------+---------------+-------------------+--------------------+--------------------+--------------------+------+--------------------+-----------------+------------------+\n",
      "only showing top 5 rows\n",
      "\n"
     ]
    }
   ],
   "source": [
    "reviews.show(5)"
   ]
  },
  {
   "cell_type": "code",
   "execution_count": 21,
   "metadata": {},
   "outputs": [
    {
     "data": {
      "text/plain": [
       "2987993"
      ]
     },
     "execution_count": 21,
     "metadata": {},
     "output_type": "execute_result"
    }
   ],
   "source": [
    "(reviews.filter(reviews['text'] != '\\xa0\\xa0')).count()"
   ]
  },
  {
   "cell_type": "code",
   "execution_count": 30,
   "metadata": {},
   "outputs": [],
   "source": [
    "non_empty_reviews = reviews.filter(reviews['text'] != '\\xa0\\xa0')"
   ]
  },
  {
   "cell_type": "code",
   "execution_count": 31,
   "metadata": {},
   "outputs": [
    {
     "name": "stdout",
     "output_type": "stream",
     "text": [
      "+-------+---------------+-------------------+--------------------+--------------------+--------------------+------+--------------------+-----------------+------------------+\n",
      "|beer_id|       username|               date|                text|                look|               smell| taste|                feel|          overall|             score|\n",
      "+-------+---------------+-------------------+--------------------+--------------------+--------------------+------+--------------------+-----------------+------------------+\n",
      "| 271781|   bluejacket74|2017-03-17 00:00:00|   750 ml bottle,...|                   4|                   4|     4|                4.25|                4|              4.03|\n",
      "| 125646|GratefulBeerGuy|2017-12-20 00:00:00|\"   0% 16 oz can....| bloomin' like a ...| totally unfilter...| thick| all-white clumps...| mellon and mango| grainy earthiness|\n",
      "| 125646|       LukeGude|2017-12-20 00:00:00|   Classic TH NEI...|                4.25|                 4.5|  4.25|                4.25|             4.25|              4.31|\n",
      "| 125646|           MFMB|2017-12-16 00:00:00|   Pours a creamy...|                4.75|                 4.5|   4.5|                 4.5|              4.5|              4.52|\n",
      "| 125646|    jngrizzaffi|2017-12-10 00:00:00|   Pours a cloudy...|                 4.5|                 4.5|   4.5|                4.75|              4.5|              4.53|\n",
      "+-------+---------------+-------------------+--------------------+--------------------+--------------------+------+--------------------+-----------------+------------------+\n",
      "only showing top 5 rows\n",
      "\n"
     ]
    }
   ],
   "source": [
    "non_empty_reviews.show(5)"
   ]
  },
  {
   "cell_type": "code",
   "execution_count": 35,
   "metadata": {},
   "outputs": [
    {
     "data": {
      "text/plain": [
       "[('beer_id', 'int'),\n",
       " ('username', 'string'),\n",
       " ('date', 'timestamp'),\n",
       " ('text', 'string'),\n",
       " ('look', 'string'),\n",
       " ('smell', 'string'),\n",
       " ('taste', 'string'),\n",
       " ('feel', 'string'),\n",
       " ('overall', 'string'),\n",
       " ('score', 'string')]"
      ]
     },
     "execution_count": 35,
     "metadata": {},
     "output_type": "execute_result"
    }
   ],
   "source": [
    "non_empty_reviews.dtypes"
   ]
  },
  {
   "cell_type": "code",
   "execution_count": 50,
   "metadata": {},
   "outputs": [
    {
     "name": "stdout",
     "output_type": "stream",
     "text": [
      "+-------+-----------------+--------------------+--------------------+--------------------+--------------------+--------------------+--------------------+--------------------+--------------------+\n",
      "|summary|          beer_id|            username|                text|                look|               smell|               taste|                feel|             overall|               score|\n",
      "+-------+-----------------+--------------------+--------------------+--------------------+--------------------+--------------------+--------------------+--------------------+--------------------+\n",
      "|  count|          2987993|             2984209|             2987993|             2831961|             2830771|             2829717|             2828842|             2828088|             2983385|\n",
      "|   mean|63296.20292818624|1.8038932242394958E9|                null|  3.9394156210280866|  3.8445426409163534|   3.870134391442983|   3.835104948841218|   3.864983629690377|  3.8468598629637483|\n",
      "| stddev|76771.34267413334|1.428156622016932...|                null|   8.434001006900342|   7.575114374811774|   5.368186049630725|  14.241445214619425|   3.062086369033622|  2.4322625660259987|\n",
      "|    min|                3|             --Dom--|\"   ! Gusher warn...|                    |                    |                    |                    |                    |                    |\n",
      "|    max|           373128|             zzombie|   ￼Really well d...|” which is exactl...|” cuz they leave ...|” meaning the bre...| I was hoping th...| with a hint of o...|” as Felix says. ...|\n",
      "+-------+-----------------+--------------------+--------------------+--------------------+--------------------+--------------------+--------------------+--------------------+--------------------+\n",
      "\n"
     ]
    }
   ],
   "source": [
    "non_empty_reviews.describe().show()"
   ]
  },
  {
   "cell_type": "code",
   "execution_count": 61,
   "metadata": {},
   "outputs": [
    {
     "name": "stdout",
     "output_type": "stream",
     "text": [
      "+--------------------+--------------------+--------------------+--------------------+--------------------+--------------------+\n",
      "|                look|               smell|               taste|                feel|             overall|               score|\n",
      "+--------------------+--------------------+--------------------+--------------------+--------------------+--------------------+\n",
      "|                   4|                   4|                   4|                4.25|                   4|                4.03|\n",
      "| bloomin' like a ...| totally unfilter...|               thick| all-white clumps...|    mellon and mango|   grainy earthiness|\n",
      "|                4.25|                 4.5|                4.25|                4.25|                4.25|                4.31|\n",
      "|                4.75|                 4.5|                 4.5|                 4.5|                 4.5|                4.52|\n",
      "|                 4.5|                 4.5|                 4.5|                4.75|                 4.5|                4.53|\n",
      "|                 4.5|                 4.5|                 4.5|                 4.5|                 4.5|                 4.5|\n",
      "|                4.25|                4.25|                4.25|                4.25|                4.25|                4.25|\n",
      "|                   4|                3.75|                   4|                3.75|                   4|                3.92|\n",
      "|                 3.5|                   4|                4.25|                   4|                   4|                4.07|\n",
      "|                4.75|                   4|                4.25|                4.25|                4.25|                4.22|\n",
      "|                3.75|                3.75|                3.75|                3.75|                3.75|                3.75|\n",
      "|                4.25|                   4|                   4|                4.25|                   4|                4.04|\n",
      "|                4.25|                 4.5|                4.25|                 4.5|                4.25|                4.34|\n",
      "|                3.75|                3.75|                3.75|                3.75|                3.75|                3.75|\n",
      "|                4.75|                4.25|                4.75|                 4.5|                 4.5|                4.56|\n",
      "|                   4|                   4|                 4.5|                4.25|                4.25|                4.28|\n",
      "|                   4|                   4|                4.25|                   4|                   4|                 4.1|\n",
      "|                 4.5|                4.25|                4.25|                 4.5|                4.25|                4.29|\n",
      "|                3.75|                4.25|                   4|                3.75|                3.75|                3.97|\n",
      "|                4.25|                3.75|                 3.5|                3.75|                3.75|                3.68|\n",
      "|                4.25|                4.75|                 4.5|                4.75|                 4.5|                4.57|\n",
      "|                   4|                 4.5|                 4.5|                4.25|                 4.5|                4.45|\n",
      "|                   5|                   5|                   5|                   5|                   5|                   5|\n",
      "|                   3|                   3|                 3.5|                   4|                   4|                 3.5|\n",
      "|                3.25|                3.25|                3.25|                2.75|                3.25|                 3.2|\n",
      "|                 3.5|                   3|                   2|                   2|                 2.5|                2.43|\n",
      "|                   4|                 3.5|                 3.5|                   4|                 3.5|                3.58|\n",
      "|                   4|                 3.5|                   4|                   4|                 4.5|                3.98|\n",
      "|                   4|                 3.5|                3.75|                3.75|                 3.5|                3.66|\n",
      "|                 4.5|                 4.5|                4.75|                 4.5|                 4.5|                 4.6|\n",
      "|                   4|                 3.5|                   4|                   4|                   4|                3.88|\n",
      "| whisps away quic...| possibly the bes...| good irish malt ...| bourbon and oak ...| relatively easy ...| good bourbon del...|\n",
      "|                3.75|                   4|                   4|                   4|                   4|                3.99|\n",
      "|                   3|                2.75|                   3|                3.25|                   3|                2.97|\n",
      "|                4.25|                 3.5|                   4|                4.25|                   4|                3.92|\n",
      "| dank hops - mode...|  nice sugary citrus|     doughy malt.  \"|                null|                null|                null|\n",
      "|                 4.5|                 4.5|                 4.5|                4.75|                4.75|                4.58|\n",
      "|                   4|                   4|                   4|                   4|                 4.5|                 4.1|\n",
      "|                 3.5|                   4|                   3|                 3.5|                 3.5|                3.42|\n",
      "|                   4|                 3.5|                   4|                   4|                   4|                3.88|\n",
      "|                 3.5|                 3.5|                   4|                   4|                   4|                3.85|\n",
      "|                   4|                   4|                 3.5|                   4|                   4|                 3.8|\n",
      "|                   4|                   4|                   3|                   4|                 2.5|                 3.3|\n",
      "|                 3.5|                 4.5|                   4|                 3.5|                   4|                4.04|\n",
      "|                 3.5|                   4|                   4|                 3.5|                   4|                3.92|\n",
      "|                 3.5|                 3.5|                   3|                   3|                 2.5|                3.05|\n",
      "| a bit more hop i...| but upon warming...| not too bad and ...|                 3.5|                 3.5|                   4|\n",
      "|                   4|                 4.5|                 4.5|                   4|                 4.5|                4.42|\n",
      "|                 3.5|                 3.5|                 3.5|                   4|                   4|                3.65|\n",
      "|                   3|                 3.5|                 3.5|                   4|                 3.5|                3.52|\n",
      "+--------------------+--------------------+--------------------+--------------------+--------------------+--------------------+\n",
      "only showing top 50 rows\n",
      "\n"
     ]
    }
   ],
   "source": [
    "non_empty_reviews.select('look','smell','taste','feel','overall','score').show(50)"
   ]
  },
  {
   "cell_type": "code",
   "execution_count": 82,
   "metadata": {},
   "outputs": [
    {
     "name": "stdout",
     "output_type": "stream",
     "text": [
      "+-------+---------------+-------------------+--------------------+--------------------+--------------------+--------------------+--------------------+--------------------+--------------------+\n",
      "|beer_id|       username|               date|                text|                look|               smell|               taste|                feel|             overall|               score|\n",
      "+-------+---------------+-------------------+--------------------+--------------------+--------------------+--------------------+--------------------+--------------------+--------------------+\n",
      "| 125646|GratefulBeerGuy|2017-12-20 00:00:00|\"   0% 16 oz can....| bloomin' like a ...| totally unfilter...|               thick| all-white clumps...|    mellon and mango|   grainy earthiness|\n",
      "| 206623|   rodbeermunch|2016-01-27 00:00:00|\"   Dark brown po...| whisps away quic...| possibly the bes...| good irish malt ...| bourbon and oak ...| relatively easy ...| good bourbon del...|\n",
      "|  96331|       dirtylou|2013-07-09 00:00:00|\"   on-tap @ the ...| dank hops - mode...|  nice sugary citrus|     doughy malt.  \"|                null|                null|                null|\n",
      "|  58482|     hosehead83|2009-07-27 00:00:00|\"   poured into a...| a bit more hop i...| but upon warming...| not too bad and ...|                 3.5|                 3.5|                   4|\n",
      "|  58482|      maximum12|2009-07-19 00:00:00|\"   Big thanks to...| & a successful o...|                   4|                   4|                   4|                 3.5|                   4|\n",
      "+-------+---------------+-------------------+--------------------+--------------------+--------------------+--------------------+--------------------+--------------------+--------------------+\n",
      "only showing top 5 rows\n",
      "\n"
     ]
    }
   ],
   "source": [
    "non_empty_reviews.filter(F.col(\"look\").cast(\"int\").isNotNull() == False).show(5)"
   ]
  },
  {
   "cell_type": "code",
   "execution_count": 83,
   "metadata": {},
   "outputs": [
    {
     "data": {
      "text/plain": [
       "372068"
      ]
     },
     "execution_count": 83,
     "metadata": {},
     "output_type": "execute_result"
    }
   ],
   "source": [
    "non_empty_reviews.filter(F.col(\"look\").cast(\"int\").isNotNull() == False).count()"
   ]
  },
  {
   "cell_type": "code",
   "execution_count": 84,
   "metadata": {},
   "outputs": [
    {
     "data": {
      "text/plain": [
       "0.12452104138128837"
      ]
     },
     "execution_count": 84,
     "metadata": {},
     "output_type": "execute_result"
    }
   ],
   "source": [
    "372068/2987993"
   ]
  },
  {
   "cell_type": "code",
   "execution_count": 96,
   "metadata": {},
   "outputs": [
    {
     "name": "stdout",
     "output_type": "stream",
     "text": [
      "+-------+-----+\n",
      "|beer_id|count|\n",
      "+-------+-----+\n",
      "|    645| 4364|\n",
      "|  11757| 4300|\n",
      "|   2093| 4252|\n",
      "|   7971| 4155|\n",
      "|   1093| 4054|\n",
      "|    412| 4001|\n",
      "|  17112| 3905|\n",
      "|    695| 3786|\n",
      "|  19960| 3738|\n",
      "|   1904| 3675|\n",
      "+-------+-----+\n",
      "only showing top 10 rows\n",
      "\n"
     ]
    }
   ],
   "source": [
    "non_empty_reviews.groupBy('beer_id').count().sort('count', ascending = False).show(10)"
   ]
  },
  {
   "cell_type": "code",
   "execution_count": 99,
   "metadata": {},
   "outputs": [
    {
     "name": "stdout",
     "output_type": "stream",
     "text": [
      "+-----------------------+\n",
      "|count(DISTINCT beer_id)|\n",
      "+-----------------------+\n",
      "|                 210311|\n",
      "+-----------------------+\n",
      "\n"
     ]
    }
   ],
   "source": [
    "non_empty_reviews.agg(F.countDistinct(\"beer_id\")).show()"
   ]
  },
  {
   "cell_type": "code",
   "execution_count": 111,
   "metadata": {},
   "outputs": [],
   "source": [
    "beerStyles = beers.select(\"id\",\"style\")"
   ]
  },
  {
   "cell_type": "code",
   "execution_count": 112,
   "metadata": {},
   "outputs": [
    {
     "name": "stdout",
     "output_type": "stream",
     "text": [
      "+------+--------------------+\n",
      "|    id|               style|\n",
      "+------+--------------------+\n",
      "|202522|English Oatmeal S...|\n",
      "| 82352|Russian Imperial ...|\n",
      "|214879|        Scottish Ale|\n",
      "|320009|American Imperial...|\n",
      "|246438|  American Cream Ale|\n",
      "+------+--------------------+\n",
      "only showing top 5 rows\n",
      "\n"
     ]
    }
   ],
   "source": [
    "beerStyles.show(5)"
   ]
  },
  {
   "cell_type": "code",
   "execution_count": 113,
   "metadata": {},
   "outputs": [],
   "source": [
    "beerStyles = beerStyles.withColumnRenamed('id', 'beer_id')"
   ]
  },
  {
   "cell_type": "code",
   "execution_count": 114,
   "metadata": {},
   "outputs": [
    {
     "name": "stdout",
     "output_type": "stream",
     "text": [
      "+-------+--------------------+\n",
      "|beer_id|               style|\n",
      "+-------+--------------------+\n",
      "| 202522|English Oatmeal S...|\n",
      "|  82352|Russian Imperial ...|\n",
      "| 214879|        Scottish Ale|\n",
      "| 320009|American Imperial...|\n",
      "| 246438|  American Cream Ale|\n",
      "+-------+--------------------+\n",
      "only showing top 5 rows\n",
      "\n"
     ]
    }
   ],
   "source": [
    "beerStyles.show(5)"
   ]
  },
  {
   "cell_type": "code",
   "execution_count": 119,
   "metadata": {},
   "outputs": [],
   "source": [
    "test = non_empty_reviews.join(beerStyles, \"beer_id\")"
   ]
  },
  {
   "cell_type": "code",
   "execution_count": 120,
   "metadata": {},
   "outputs": [
    {
     "name": "stdout",
     "output_type": "stream",
     "text": [
      "+-------+---------------+-------------------+--------------------+--------------------+--------------------+------+--------------------+-----------------+------------------+--------------------+\n",
      "|beer_id|       username|               date|                text|                look|               smell| taste|                feel|          overall|             score|               style|\n",
      "+-------+---------------+-------------------+--------------------+--------------------+--------------------+------+--------------------+-----------------+------------------+--------------------+\n",
      "| 271781|   bluejacket74|2017-03-17 00:00:00|   750 ml bottle,...|                   4|                   4|     4|                4.25|                4|              4.03|American Imperial...|\n",
      "| 125646|GratefulBeerGuy|2017-12-20 00:00:00|\"   0% 16 oz can....| bloomin' like a ...| totally unfilter...| thick| all-white clumps...| mellon and mango| grainy earthiness|     New England IPA|\n",
      "| 125646|       LukeGude|2017-12-20 00:00:00|   Classic TH NEI...|                4.25|                 4.5|  4.25|                4.25|             4.25|              4.31|     New England IPA|\n",
      "| 125646|           MFMB|2017-12-16 00:00:00|   Pours a creamy...|                4.75|                 4.5|   4.5|                 4.5|              4.5|              4.52|     New England IPA|\n",
      "| 125646|    jngrizzaffi|2017-12-10 00:00:00|   Pours a cloudy...|                 4.5|                 4.5|   4.5|                4.75|              4.5|              4.53|     New England IPA|\n",
      "+-------+---------------+-------------------+--------------------+--------------------+--------------------+------+--------------------+-----------------+------------------+--------------------+\n",
      "only showing top 5 rows\n",
      "\n"
     ]
    }
   ],
   "source": [
    "test.show(5)"
   ]
  },
  {
   "cell_type": "code",
   "execution_count": 121,
   "metadata": {},
   "outputs": [
    {
     "data": {
      "text/plain": [
       "2987925"
      ]
     },
     "execution_count": 121,
     "metadata": {},
     "output_type": "execute_result"
    }
   ],
   "source": [
    "test.count()"
   ]
  },
  {
   "cell_type": "code",
   "execution_count": 123,
   "metadata": {},
   "outputs": [
    {
     "name": "stdout",
     "output_type": "stream",
     "text": [
      "+--------------------+------+\n",
      "|               style| count|\n",
      "+--------------------+------+\n",
      "|        American IPA|301774|\n",
      "|American Imperial...|212697|\n",
      "|American Imperial...|150160|\n",
      "|American Pale Ale...|126489|\n",
      "|      Belgian Saison| 91000|\n",
      "|Russian Imperial ...| 86117|\n",
      "|     American Porter| 71189|\n",
      "|   American Wild Ale| 63393|\n",
      "|American Amber / ...| 62818|\n",
      "|Fruit and Field Beer| 58342|\n",
      "|Belgian Strong Da...| 53097|\n",
      "|     Belgian Witbier| 46545|\n",
      "|Belgian Strong Pa...| 45732|\n",
      "|      Belgian Tripel| 45686|\n",
      "|  American Brown Ale| 44774|\n",
      "| American Strong Ale| 43575|\n",
      "|   German Hefeweizen| 42930|\n",
      "|      American Stout| 41879|\n",
      "| American Barleywine| 40873|\n",
      "|American Adjunct ...| 39404|\n",
      "+--------------------+------+\n",
      "only showing top 20 rows\n",
      "\n"
     ]
    }
   ],
   "source": [
    "test.groupBy('style').count().sort('count', ascending = False).show(20)"
   ]
  },
  {
   "cell_type": "code",
   "execution_count": null,
   "metadata": {},
   "outputs": [],
   "source": []
  },
  {
   "cell_type": "code",
   "execution_count": null,
   "metadata": {},
   "outputs": [],
   "source": []
  }
 ],
 "metadata": {
  "kernelspec": {
   "display_name": "Python 3",
   "language": "python",
   "name": "python3"
  },
  "language_info": {
   "codemirror_mode": {
    "name": "ipython",
    "version": 3
   },
   "file_extension": ".py",
   "mimetype": "text/x-python",
   "name": "python",
   "nbconvert_exporter": "python",
   "pygments_lexer": "ipython3",
   "version": "3.6.8"
  }
 },
 "nbformat": 4,
 "nbformat_minor": 2
}
